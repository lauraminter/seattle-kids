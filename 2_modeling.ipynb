{
 "cells": [
  {
   "cell_type": "markdown",
   "id": "b3ff6ce7-6ac9-44e2-a990-deccf26b3b94",
   "metadata": {},
   "source": [
    "# Seattle Kids in Urban Centers"
   ]
  },
  {
   "cell_type": "markdown",
   "id": "b803696c-b8ab-4509-9636-cd2a74afc5a8",
   "metadata": {
    "tags": []
   },
   "source": [
    "## Problem Statement:\n",
    "\n",
    "What role does density play in the growth in child population within Seattle's Urban Centers and villages?  What roles does density play in school enrollment?\n",
    "\n",
    "Can incorporating UCV population data improve enrollment modeling?\n",
    "\n",
    "What is the significance of Urban Centers and Villages in changing enrollments in Seattle Public Schools?"
   ]
  },
  {
   "cell_type": "markdown",
   "id": "588541e6-dfdd-4679-b6f5-0d99049afc5b",
   "metadata": {},
   "source": [
    "# Modeling\n",
    "\n",
    "The goal is to use ARIMA modeling to predict enrollment based on population data.  \n",
    "\n",
    "In order to model annual enrollment, yearly population estimates were obtained by interpolating between census years.  While this is certainly not an exact value for the true population it gives us a reasonable estimate for years in between the decennial cenus data.  Population data will be shifted to use the previous year data for the model.  \n",
    "\n",
    "Models to compare:\n",
    "- ARIMA model with no exogenous data\n",
    "- ARIMA model with exogenous population data\n",
    "- NULL model assuming enrollment is average of years reported (training data only)\n",
    "\n",
    "For ARIMA, examining stationarity will help determine the appropriate differencing (d) to use.  A manual grid search for best ARIMA parameters (p,q) comparing AIC value will implemented with the best values being implemented as the final model.  \n",
    "\n",
    "\n"
   ]
  },
  {
   "cell_type": "code",
   "execution_count": 1,
   "id": "eb2b66bc-453f-475a-b906-8ef8d259d4c6",
   "metadata": {},
   "outputs": [],
   "source": [
    "#imports\n",
    "import pandas as pd\n",
    "import numpy as np\n",
    "import matplotlib.pyplot as plt\n",
    "\n",
    "from sklearn.model_selection import train_test_split\n",
    "from statsmodels.tsa.stattools import adfuller\n",
    "\n",
    "#from statsmodels.tsa.arima.model import ARIMA\n",
    "from statsmodels.tsa.arima_model import ARIMA\n",
    "import statsmodels.api as sm\n",
    "from sklearn.metrics import mean_squared_error"
   ]
  },
  {
   "cell_type": "code",
   "execution_count": 13,
   "id": "3a31e266-4bec-43ed-a928-67e4a3f94084",
   "metadata": {},
   "outputs": [],
   "source": [
    "# read in the data\n",
    "ucvkids = pd.read_csv('./data/seattle_ucv_kids_cleaned.csv')\n",
    "kids = pd.read_csv('./data/seattle_kids_cleaned.csv')\n",
    "pop = pd.read_csv('./data/seattle_pop_cleaned.csv')\n",
    "ucvpop = pd.read_csv('./data/seattle_ucv_pop_cleaned.csv')\n",
    "\n",
    "enrollment = pd.read_csv('./data/enrollmentdata/enrollment_cleaned.csv')"
   ]
  },
  {
   "cell_type": "code",
   "execution_count": 14,
   "id": "fc0f8c68-f6cc-4808-9d7d-788086e9a5a4",
   "metadata": {},
   "outputs": [
    {
     "data": {
      "text/plain": [
       "Index(['Unnamed: 0', 'neighborhood', 'neighborhood_no', 'area', '1990', '2000',\n",
       "       '2010', '2020'],\n",
       "      dtype='object')"
      ]
     },
     "execution_count": 14,
     "metadata": {},
     "output_type": "execute_result"
    }
   ],
   "source": [
    "kids.columns"
   ]
  },
  {
   "cell_type": "code",
   "execution_count": 15,
   "id": "d88b1a34-e6ca-44fb-8618-9cd1b2e49426",
   "metadata": {
    "tags": []
   },
   "outputs": [],
   "source": [
    "# population interpolation using difference between census data divided by 10\n",
    "# starting with overall population\n",
    "\n",
    "pop_interp = pop[['NEIGH_NAME','NEIGH_NO', 'AREA_ACRES']+[col for col in pop.columns if 'TOT_POP' in col]].copy()\n",
    "pop_interp.columns = ['neighborhood','neighborhood_no','area','1990', '2000', '2010', '2020']\n",
    "\n",
    "#ucv total population, select coumns and rename\n",
    "ucv_interp = ucvpop[['NEIGH_NAME','NEIGH_NO', 'AREA_ACRES']+[col for col in pop.columns if 'TOT_POP' in col]].copy()\n",
    "ucv_interp.columns = ['neighborhood','neighborhood_no','area','1990', '2000', '2010', '2020']\n",
    "\n",
    "# kids columns already selected and renamed\n",
    "kids_interp = kids.copy()\n",
    "kids_interp.set_index('neighborhood')\n",
    "\n",
    "\n",
    "# ucvkids need to select columns, already renamed\n",
    "ucvkids_interp = ucvkids[['neighborhood','neighborhood_no','area','1990', '2000', '2010', '2020']].copy()"
   ]
  },
  {
   "cell_type": "code",
   "execution_count": 16,
   "id": "8106d03b-ac9d-44c6-8212-adc1aba73cc8",
   "metadata": {
    "tags": []
   },
   "outputs": [],
   "source": [
    "# interpolate using 1/10 the difference between 2020 and 2010 for each area\n",
    "for i in range(1,10):\n",
    "    year = 2010+i\n",
    "    pop_interp[f'{year}'] = pop_interp['2010']+(pop_interp['2020']- pop_interp['2010'])*i/10\n",
    "    ucv_interp[f'{year}'] = ucv_interp['2010']+(ucv_interp['2020']- ucv_interp['2010'])*i/10\n",
    "    kids_interp[f'{year}'] = kids_interp['2010']+(kids_interp['2020']- kids_interp['2010'])*i/10\n",
    "    ucvkids_interp[f'{year}'] = ucvkids_interp['2010']+(ucvkids_interp['2020']- ucvkids_interp['2010'])*i/10\n",
    "    \n",
    "    #same for 2000 to 2010\n",
    "    year = 2000+i\n",
    "    pop_interp[f'{year}'] = pop_interp['2000']+(pop_interp['2010']- pop_interp['2000'])*i/10\n",
    "    ucv_interp[f'{year}'] = ucv_interp['2000']+(ucv_interp['2010']- ucv_interp['2000'])*i/10\n",
    "    kids_interp[f'{year}'] = kids_interp['2000']+(kids_interp['2010']- kids_interp['2000'])*i/10\n",
    "    ucvkids_interp[f'{year}'] = ucvkids_interp['2000']+(ucvkids_interp['2010']- ucvkids_interp['2000'])*i/10\n",
    "    \n",
    "    #same for 1990 to 2000\n",
    "    year = 1990+i\n",
    "    pop_interp[f'{year}'] = pop_interp['1990']+(pop_interp['2000']- pop_interp['1990'])*i/10\n",
    "    ucv_interp[f'{year}'] = ucv_interp['1990']+(ucv_interp['2000']- ucv_interp['1990'])*i/10\n",
    "    kids_interp[f'{year}'] = kids_interp['1990']+(kids_interp['2000']- kids_interp['1990'])*i/10\n",
    "    ucvkids_interp[f'{year}'] = ucvkids_interp['1990']+(ucvkids_interp['2000']- ucvkids_interp['1990'])*i/10\n",
    "    \n",
    "    "
   ]
  },
  {
   "cell_type": "code",
   "execution_count": 17,
   "id": "b083ed6b-f9c6-4d94-8090-4c9a2646e5e7",
   "metadata": {
    "tags": []
   },
   "outputs": [
    {
     "data": {
      "text/html": [
       "<div>\n",
       "<style scoped>\n",
       "    .dataframe tbody tr th:only-of-type {\n",
       "        vertical-align: middle;\n",
       "    }\n",
       "\n",
       "    .dataframe tbody tr th {\n",
       "        vertical-align: top;\n",
       "    }\n",
       "\n",
       "    .dataframe thead th {\n",
       "        text-align: right;\n",
       "    }\n",
       "</style>\n",
       "<table border=\"1\" class=\"dataframe\">\n",
       "  <thead>\n",
       "    <tr style=\"text-align: right;\">\n",
       "      <th></th>\n",
       "      <th>total population</th>\n",
       "      <th>total ucv population</th>\n",
       "      <th>total kid population</th>\n",
       "      <th>total ucv kid population</th>\n",
       "      <th>total enrollment</th>\n",
       "      <th>middle enroll</th>\n",
       "      <th>high schools</th>\n",
       "      <th>elementary enroll</th>\n",
       "    </tr>\n",
       "    <tr>\n",
       "      <th>year</th>\n",
       "      <th></th>\n",
       "      <th></th>\n",
       "      <th></th>\n",
       "      <th></th>\n",
       "      <th></th>\n",
       "      <th></th>\n",
       "      <th></th>\n",
       "      <th></th>\n",
       "    </tr>\n",
       "  </thead>\n",
       "  <tbody>\n",
       "    <tr>\n",
       "      <th>2016-01-01</th>\n",
       "      <td>685673.0</td>\n",
       "      <td>273394.6</td>\n",
       "      <td>101509.8</td>\n",
       "      <td>25022.8</td>\n",
       "      <td>53102.0</td>\n",
       "      <td>9225.0</td>\n",
       "      <td>12702.0</td>\n",
       "      <td>29593.0</td>\n",
       "    </tr>\n",
       "    <tr>\n",
       "      <th>2017-01-01</th>\n",
       "      <td>698508.5</td>\n",
       "      <td>282122.7</td>\n",
       "      <td>102842.6</td>\n",
       "      <td>25544.1</td>\n",
       "      <td>53380.0</td>\n",
       "      <td>9433.0</td>\n",
       "      <td>13095.0</td>\n",
       "      <td>29387.0</td>\n",
       "    </tr>\n",
       "    <tr>\n",
       "      <th>2018-01-01</th>\n",
       "      <td>711344.0</td>\n",
       "      <td>290850.8</td>\n",
       "      <td>104175.4</td>\n",
       "      <td>26065.4</td>\n",
       "      <td>52931.0</td>\n",
       "      <td>9746.0</td>\n",
       "      <td>12942.0</td>\n",
       "      <td>28870.0</td>\n",
       "    </tr>\n",
       "    <tr>\n",
       "      <th>2019-01-01</th>\n",
       "      <td>724179.5</td>\n",
       "      <td>299578.9</td>\n",
       "      <td>105508.2</td>\n",
       "      <td>26586.7</td>\n",
       "      <td>53627.0</td>\n",
       "      <td>9836.0</td>\n",
       "      <td>13350.0</td>\n",
       "      <td>28957.0</td>\n",
       "    </tr>\n",
       "    <tr>\n",
       "      <th>2020-01-01</th>\n",
       "      <td>737015.0</td>\n",
       "      <td>308307.0</td>\n",
       "      <td>106841.0</td>\n",
       "      <td>27108.0</td>\n",
       "      <td>52381.0</td>\n",
       "      <td>9977.0</td>\n",
       "      <td>13695.0</td>\n",
       "      <td>27297.0</td>\n",
       "    </tr>\n",
       "  </tbody>\n",
       "</table>\n",
       "</div>"
      ],
      "text/plain": [
       "            total population  total ucv population  total kid population  \\\n",
       "year                                                                       \n",
       "2016-01-01          685673.0              273394.6              101509.8   \n",
       "2017-01-01          698508.5              282122.7              102842.6   \n",
       "2018-01-01          711344.0              290850.8              104175.4   \n",
       "2019-01-01          724179.5              299578.9              105508.2   \n",
       "2020-01-01          737015.0              308307.0              106841.0   \n",
       "\n",
       "            total ucv kid population  total enrollment  middle enroll  \\\n",
       "year                                                                    \n",
       "2016-01-01                   25022.8           53102.0         9225.0   \n",
       "2017-01-01                   25544.1           53380.0         9433.0   \n",
       "2018-01-01                   26065.4           52931.0         9746.0   \n",
       "2019-01-01                   26586.7           53627.0         9836.0   \n",
       "2020-01-01                   27108.0           52381.0         9977.0   \n",
       "\n",
       "            high schools  elementary enroll  \n",
       "year                                         \n",
       "2016-01-01       12702.0            29593.0  \n",
       "2017-01-01       13095.0            29387.0  \n",
       "2018-01-01       12942.0            28870.0  \n",
       "2019-01-01       13350.0            28957.0  \n",
       "2020-01-01       13695.0            27297.0  "
      ]
     },
     "execution_count": 17,
     "metadata": {},
     "output_type": "execute_result"
    }
   ],
   "source": [
    "# now get them into time order by breaking down in terms of year and getting required info\n",
    "# we will separate by year, accumulated the desired values and put them in a dictionary\n",
    "# then we can make the dictionary into a dataframe\n",
    "\n",
    "basic_cols = ['neighborhood', 'neighborhood_no', 'area']\n",
    "pop_info = [] #empty list for storing dictionary entries for df?\n",
    "\n",
    "for year in range(1990, 2021):\n",
    "    info = {}\n",
    "    \n",
    "    # population totals we want\n",
    "    info['year'] = year\n",
    "    info['total population'] = np.sum(pop_interp[f'{year}'])\n",
    "    info['total ucv population'] = np.sum(ucv_interp[f'{year}'])\n",
    "    info['total kid population'] = np.sum(kids_interp[f'{year}'])\n",
    "    info['total ucv kid population'] = np.sum(ucvkids_interp[f'{year}'])\n",
    "    \n",
    "    if year >= 2010:\n",
    "        # enrollment totals we want\n",
    "        e = enrollment[enrollment['Year']==year].copy()\n",
    "        info['total enrollment'] = e[e['School Name']=='TOTAL']['Enrollment'].values[0]\n",
    "        info['middle enroll'] = np.sum(e[e['Service Area']=='Middle Schools']['Enrollment'])\n",
    "        info['high schools'] = np.sum(e[e['Service Area']=='High Schools']['Enrollment'])\n",
    "        leveldict = {'High Schools':'h', 'Middle Schools':'m', 'Service Schools':'s', 'Option Schools with Continuous Enrollment':'o', 'All':'a'}\n",
    "        e['type'] = e['Service Area'].map(lambda x: leveldict.get(x,'e')) #if not one of the other levels, it is an elementary school\n",
    "        info['elementary enroll'] = np.sum(e[e['type']=='e']['Enrollment'])\n",
    "\n",
    "    pop_info.append(info)\n",
    "\n",
    "# put it all into a dataframe\n",
    "modeldf = pd.DataFrame(pop_info)\n",
    "\n",
    "# make year into an actual datetime object and make it the index\n",
    "modeldf['year'] = pd.to_datetime(modeldf['year'],format = '%Y')\n",
    "modeldf.sort_values('year')\n",
    "modeldf.set_index('year', inplace = True)\n",
    "\n",
    "modeldf.tail()"
   ]
  },
  {
   "cell_type": "markdown",
   "id": "eecb401e-7e5b-4b6d-8513-64fa557b6be8",
   "metadata": {},
   "source": [
    "Examining stationarity using the ADFuller test with an alpha of 0.05.  "
   ]
  },
  {
   "cell_type": "code",
   "execution_count": 18,
   "id": "b4eee6e7-fd13-449f-898c-19f6e014241c",
   "metadata": {
    "tags": []
   },
   "outputs": [],
   "source": [
    "# look at stationarity with differences\n",
    "modeldf['total enrollment diff1'] = modeldf['total enrollment'].diff(1)\n",
    "modeldf['total enrollment diff2'] = modeldf['total enrollment'].diff(1).diff(1)\n",
    "modeldf['total enrollment diff3'] = modeldf['total enrollment'].diff(1).diff(1).diff(1)"
   ]
  },
  {
   "cell_type": "code",
   "execution_count": 19,
   "id": "ade016bf-a50a-4707-992b-ee5704cf4b68",
   "metadata": {
    "tags": []
   },
   "outputs": [
    {
     "data": {
      "image/png": "[encoded data removed]",
      "text/plain": [
       "<Figure size 360x864 with 4 Axes>"
      ]
     },
     "metadata": {
      "needs_background": "light"
     },
     "output_type": "display_data"
    }
   ],
   "source": [
    "# quick visual look at stationarity\n",
    "\n",
    "plt.figure(figsize=(5,12))\n",
    "plt.subplot(4,1,1)\n",
    "plt.plot(modeldf.index,modeldf['total enrollment'])\n",
    "plt.legend(['total enrollment'])\n",
    "plt.subplot(4,1,2)\n",
    "plt.plot(modeldf.index,modeldf['total enrollment diff1'])\n",
    "plt.legend(['1st difference'])\n",
    "plt.subplot(4,1,3)\n",
    "plt.plot(modeldf.index,modeldf['total enrollment diff2'])\n",
    "plt.legend(['2nd difference'])\n",
    "plt.subplot(4,1,4)\n",
    "plt.plot(modeldf.index,modeldf['total enrollment diff3']);\n",
    "plt.legend(['3rd difference']);"
   ]
  },
  {
   "cell_type": "code",
   "execution_count": 20,
   "id": "aa4058c1-a442-43f5-bebc-73bfc8af231e",
   "metadata": {},
   "outputs": [
    {
     "data": {
      "text/plain": [
       "Test Statistic   -0.180369\n",
       "p-value           0.940822\n",
       "dtype: float64"
      ]
     },
     "execution_count": 20,
     "metadata": {},
     "output_type": "execute_result"
    }
   ],
   "source": [
    "# Using the ADFuller test: setup with p cutoff of alpha = 0.05\n",
    "\n",
    "# function copied from ARIMA modeling leeson.  Code originally written by Joseph Nelson.\n",
    "# this function just pulls out the relevant information to make it easier to see\n",
    "def interpret_dftest(dftest):\n",
    "    dfoutput = pd.Series(dftest[0:2], index=['Test Statistic','p-value'])\n",
    "    return dfoutput\n",
    "\n",
    "interpret_dftest(adfuller(modeldf['total enrollment'].dropna()))"
   ]
  },
  {
   "cell_type": "code",
   "execution_count": 21,
   "id": "522a0c46-3a87-4134-af2d-2cdb4433790d",
   "metadata": {},
   "outputs": [
    {
     "data": {
      "text/plain": [
       "Test Statistic    0.018399\n",
       "p-value           0.960027\n",
       "dtype: float64"
      ]
     },
     "execution_count": 21,
     "metadata": {},
     "output_type": "execute_result"
    }
   ],
   "source": [
    "interpret_dftest(adfuller(modeldf['total enrollment diff1'].dropna()))"
   ]
  },
  {
   "cell_type": "code",
   "execution_count": 22,
   "id": "8e36a5eb-a98a-4202-9e79-45a633c6e83c",
   "metadata": {},
   "outputs": [
    {
     "data": {
      "text/plain": [
       "Test Statistic   -9.991094e+00\n",
       "p-value           1.995238e-17\n",
       "dtype: float64"
      ]
     },
     "execution_count": 22,
     "metadata": {},
     "output_type": "execute_result"
    }
   ],
   "source": [
    "interpret_dftest(adfuller(modeldf['total enrollment diff2'].dropna()))"
   ]
  },
  {
   "cell_type": "markdown",
   "id": "20980421-7c4b-4bae-a9fa-f419d2977e5b",
   "metadata": {},
   "source": [
    "The original enrollment is clearly not stationary from the plot as well as the ADFuller test value. A difference of 1 is still not stationary but a difference of 2 gives stationarity at the p < 0.05 level.  The ARIMA model will use twice-differenced data.  "
   ]
  },
  {
   "cell_type": "code",
   "execution_count": 23,
   "id": "68d470df-712c-4504-a2df-671ff24ca2be",
   "metadata": {},
   "outputs": [],
   "source": [
    "# set up modeling data by splitting: REMEMBER: shuffle = False so we keep it all in order\n",
    "# endogenous data\n",
    "y_train, y_test = train_test_split(modeldf['total enrollment diff2'].dropna(), test_size = 0.2, shuffle = False)\n",
    "#y_train, y_test = train_test_split(modeldf['total enrollment'].dropna(), test_size = 0.2, shuffle = False)\n",
    "\n",
    "# set the frequency of the index to avoid warnings \n",
    "# following advice from: https://pretagteam.com/question/valuewarning-no-frequency-information-was-provided-so-inferred-frequency-ms-will-be-used\n",
    "y_train.index = pd.DatetimeIndex(y_train.index.values, freq=y_train.index.inferred_freq)\n",
    "y_test.index = pd.DatetimeIndex(y_test.index.values, freq=y_test.index.inferred_freq)"
   ]
  },
  {
   "cell_type": "code",
   "execution_count": null,
   "id": "8c4bc08a-69b1-4fa7-8ed7-66c45b95c71c",
   "metadata": {},
   "outputs": [],
   "source": []
  },
  {
   "cell_type": "code",
   "execution_count": 24,
   "id": "da17996d-11c3-4731-b551-61f6c1582956",
   "metadata": {
    "tags": []
   },
   "outputs": [
    {
     "name": "stdout",
     "output_type": "stream",
     "text": [
      "\n",
      "The AIC for ARIMA(0,2,0) is: 89.18866298826795\n",
      "\n",
      "\n",
      "\n",
      "\n",
      "\n",
      "The AIC for ARIMA(1,2,0) is: 87.04863708128006\n",
      "\n",
      "\n",
      "\n",
      "\n",
      "\n",
      "\n",
      "\n",
      "\n",
      "\n",
      "\n",
      "\n",
      "\n",
      "\n",
      "\n",
      "\n",
      "\n",
      "\n",
      "\n",
      "\n",
      "\n",
      "\n",
      "MODEL FINISHED!\n",
      "Our model that minimizes AIC on the training data is the ARIMA(1,2,0).\n",
      "This model has an AIC of 87.04863708128006.\n"
     ]
    },
    {
     "name": "stderr",
     "output_type": "stream",
     "text": [
      "/Users/mamabear/opt/anaconda3/lib/python3.8/site-packages/statsmodels/tsa/arima_model.py:472: FutureWarning: \n",
      "statsmodels.tsa.arima_model.ARMA and statsmodels.tsa.arima_model.ARIMA have\n",
      "been deprecated in favor of statsmodels.tsa.arima.model.ARIMA (note the .\n",
      "between arima and model) and\n",
      "statsmodels.tsa.SARIMAX. These will be removed after the 0.12 release.\n",
      "\n",
      "statsmodels.tsa.arima.model.ARIMA makes use of the statespace framework and\n",
      "is both well tested and maintained.\n",
      "\n",
      "To silence this warning and continue using ARMA and ARIMA until they are\n",
      "removed, use:\n",
      "\n",
      "import warnings\n",
      "warnings.filterwarnings('ignore', 'statsmodels.tsa.arima_model.ARMA',\n",
      "                        FutureWarning)\n",
      "warnings.filterwarnings('ignore', 'statsmodels.tsa.arima_model.ARIMA',\n",
      "                        FutureWarning)\n",
      "\n",
      "  warnings.warn(ARIMA_DEPRECATION_WARN, FutureWarning)\n",
      "/Users/mamabear/opt/anaconda3/lib/python3.8/site-packages/statsmodels/regression/linear_model.py:1434: RuntimeWarning: invalid value encountered in sqrt\n",
      "  return rho, np.sqrt(sigmasq)\n",
      "/Users/mamabear/opt/anaconda3/lib/python3.8/site-packages/statsmodels/tsa/arima_model.py:472: FutureWarning: \n",
      "statsmodels.tsa.arima_model.ARMA and statsmodels.tsa.arima_model.ARIMA have\n",
      "been deprecated in favor of statsmodels.tsa.arima.model.ARIMA (note the .\n",
      "between arima and model) and\n",
      "statsmodels.tsa.SARIMAX. These will be removed after the 0.12 release.\n",
      "\n",
      "statsmodels.tsa.arima.model.ARIMA makes use of the statespace framework and\n",
      "is both well tested and maintained.\n",
      "\n",
      "To silence this warning and continue using ARMA and ARIMA until they are\n",
      "removed, use:\n",
      "\n",
      "import warnings\n",
      "warnings.filterwarnings('ignore', 'statsmodels.tsa.arima_model.ARMA',\n",
      "                        FutureWarning)\n",
      "warnings.filterwarnings('ignore', 'statsmodels.tsa.arima_model.ARIMA',\n",
      "                        FutureWarning)\n",
      "\n",
      "  warnings.warn(ARIMA_DEPRECATION_WARN, FutureWarning)\n",
      "/Users/mamabear/opt/anaconda3/lib/python3.8/site-packages/statsmodels/tsa/arima_model.py:472: FutureWarning: \n",
      "statsmodels.tsa.arima_model.ARMA and statsmodels.tsa.arima_model.ARIMA have\n",
      "been deprecated in favor of statsmodels.tsa.arima.model.ARIMA (note the .\n",
      "between arima and model) and\n",
      "statsmodels.tsa.SARIMAX. These will be removed after the 0.12 release.\n",
      "\n",
      "statsmodels.tsa.arima.model.ARIMA makes use of the statespace framework and\n",
      "is both well tested and maintained.\n",
      "\n",
      "To silence this warning and continue using ARMA and ARIMA until they are\n",
      "removed, use:\n",
      "\n",
      "import warnings\n",
      "warnings.filterwarnings('ignore', 'statsmodels.tsa.arima_model.ARMA',\n",
      "                        FutureWarning)\n",
      "warnings.filterwarnings('ignore', 'statsmodels.tsa.arima_model.ARIMA',\n",
      "                        FutureWarning)\n",
      "\n",
      "  warnings.warn(ARIMA_DEPRECATION_WARN, FutureWarning)\n",
      "/Users/mamabear/opt/anaconda3/lib/python3.8/site-packages/statsmodels/regression/linear_model.py:1434: RuntimeWarning: invalid value encountered in sqrt\n",
      "  return rho, np.sqrt(sigmasq)\n",
      "/Users/mamabear/opt/anaconda3/lib/python3.8/site-packages/statsmodels/tsa/arima_model.py:472: FutureWarning: \n",
      "statsmodels.tsa.arima_model.ARMA and statsmodels.tsa.arima_model.ARIMA have\n",
      "been deprecated in favor of statsmodels.tsa.arima.model.ARIMA (note the .\n",
      "between arima and model) and\n",
      "statsmodels.tsa.SARIMAX. These will be removed after the 0.12 release.\n",
      "\n",
      "statsmodels.tsa.arima.model.ARIMA makes use of the statespace framework and\n",
      "is both well tested and maintained.\n",
      "\n",
      "To silence this warning and continue using ARMA and ARIMA until they are\n",
      "removed, use:\n",
      "\n",
      "import warnings\n",
      "warnings.filterwarnings('ignore', 'statsmodels.tsa.arima_model.ARMA',\n",
      "                        FutureWarning)\n",
      "warnings.filterwarnings('ignore', 'statsmodels.tsa.arima_model.ARIMA',\n",
      "                        FutureWarning)\n",
      "\n",
      "  warnings.warn(ARIMA_DEPRECATION_WARN, FutureWarning)\n"
     ]
    }
   ],
   "source": [
    "\n",
    "# using the manual grid search as we did in lesson 10.03 on ARIMA modeling\n",
    "# Starting AIC, p, and q.\n",
    "best_aic = 99e16\n",
    "best_p = 0\n",
    "best_q = 0\n",
    "\n",
    "# Use nested for loop to iterate over values of p and q.\n",
    "for p in range(5):\n",
    "    for q in range(5):\n",
    "        # Insert try and except statements.\n",
    "        try:  \n",
    "            # Fitting an ARIMA(p, 1, q) model.\n",
    "            print(f'')\n",
    "            # Instantiate ARIMA model.\n",
    "            arima = ARIMA(endog = y_train.astype(float).dropna(),order = (p,2,q))\n",
    "            # Fit ARIMA model.\n",
    "            model = arima.fit(method_kwargs={\"warn_convergence\": False})\n",
    "            # Print out AIC for ARIMA(p, 1, q) model.\n",
    "            print(f'The AIC for ARIMA({p},2,{q}) is: {model.aic}')\n",
    "            # Is my current model's AIC better than our best_aic?\n",
    "            if model.aic < best_aic:        \n",
    "                # If so, let's overwrite best_aic, best_p, and best_q.\n",
    "                best_aic = model.aic\n",
    "                best_p = p\n",
    "                best_q = q\n",
    "        except:\n",
    "            pass\n",
    "print()\n",
    "print()\n",
    "print('MODEL FINISHED!')\n",
    "print(f'Our model that minimizes AIC on the training data is the ARIMA({best_p},2,{best_q}).')\n",
    "print(f'This model has an AIC of {best_aic}.')"
   ]
  },
  {
   "cell_type": "code",
   "execution_count": 25,
   "id": "4c86f742-8f50-4eef-bb9c-107b2c54a740",
   "metadata": {},
   "outputs": [],
   "source": [
    "# instantiate best model\n",
    "#model = ARIMA(endog=y_train.astype(float).dropna(),order = (0,2,1))\n",
    "model = ARIMA(endog=y_train.astype(float).dropna(),order = (1,2,0))"
   ]
  },
  {
   "cell_type": "code",
   "execution_count": 26,
   "id": "abcc5df3-b62a-404b-a8ea-be352420cb27",
   "metadata": {},
   "outputs": [],
   "source": [
    "# fit model\n",
    "arima = model.fit(method_kwargs={\"warn_convergence\": False})"
   ]
  },
  {
   "cell_type": "code",
   "execution_count": null,
   "id": "bc413147-014a-4ace-aa0b-2b42c13fa745",
   "metadata": {},
   "outputs": [],
   "source": []
  },
  {
   "cell_type": "code",
   "execution_count": 27,
   "id": "8576daf6-b832-4142-8098-46d6038451aa",
   "metadata": {},
   "outputs": [
    {
     "data": {
      "text/html": [
       "<table class=\"simpletable\">\n",
       "<caption>ARIMA Model Results</caption>\n",
       "<tr>\n",
       "  <th>Dep. Variable:</th> <td>D2.total enrollment diff2</td> <th>  No. Observations:  </th>    <td>5</td>   \n",
       "</tr>\n",
       "<tr>\n",
       "  <th>Model:</th>              <td>ARIMA(1, 2, 0)</td>       <th>  Log Likelihood     </th> <td>-40.524</td>\n",
       "</tr>\n",
       "<tr>\n",
       "  <th>Method:</th>                 <td>css-mle</td>          <th>  S.D. of innovations</th> <td>744.778</td>\n",
       "</tr>\n",
       "<tr>\n",
       "  <th>Date:</th>              <td>Wed, 22 Dec 2021</td>      <th>  AIC                </th> <td>87.049</td> \n",
       "</tr>\n",
       "<tr>\n",
       "  <th>Time:</th>                  <td>12:00:11</td>          <th>  BIC                </th> <td>85.877</td> \n",
       "</tr>\n",
       "<tr>\n",
       "  <th>Sample:</th>               <td>01-01-2014</td>         <th>  HQIC               </th> <td>83.904</td> \n",
       "</tr>\n",
       "<tr>\n",
       "  <th></th>                     <td>- 01-01-2018</td>        <th>                     </th>    <td> </td>   \n",
       "</tr>\n",
       "</table>\n",
       "<table class=\"simpletable\">\n",
       "<tr>\n",
       "                 <td></td>                    <th>coef</th>     <th>std err</th>      <th>z</th>      <th>P>|z|</th>  <th>[0.025</th>    <th>0.975]</th>  \n",
       "</tr>\n",
       "<tr>\n",
       "  <th>const</th>                           <td> -117.5657</td> <td>  213.401</td> <td>   -0.551</td> <td> 0.582</td> <td> -535.824</td> <td>  300.693</td>\n",
       "</tr>\n",
       "<tr>\n",
       "  <th>ar.L1.D2.total enrollment diff2</th> <td>   -0.7192</td> <td>    0.240</td> <td>   -2.998</td> <td> 0.003</td> <td>   -1.189</td> <td>   -0.249</td>\n",
       "</tr>\n",
       "</table>\n",
       "<table class=\"simpletable\">\n",
       "<caption>Roots</caption>\n",
       "<tr>\n",
       "    <td></td>   <th>            Real</th>  <th>         Imaginary</th> <th>         Modulus</th>  <th>        Frequency</th>\n",
       "</tr>\n",
       "<tr>\n",
       "  <th>AR.1</th> <td>          -1.3903</td> <td>          +0.0000j</td> <td>           1.3903</td> <td>           0.5000</td>\n",
       "</tr>\n",
       "</table>"
      ],
      "text/plain": [
       "<class 'statsmodels.iolib.summary.Summary'>\n",
       "\"\"\"\n",
       "                                 ARIMA Model Results                                 \n",
       "=====================================================================================\n",
       "Dep. Variable:     D2.total enrollment diff2   No. Observations:                    5\n",
       "Model:                        ARIMA(1, 2, 0)   Log Likelihood                 -40.524\n",
       "Method:                              css-mle   S.D. of innovations            744.778\n",
       "Date:                       Wed, 22 Dec 2021   AIC                             87.049\n",
       "Time:                               12:00:11   BIC                             85.877\n",
       "Sample:                           01-01-2014   HQIC                            83.904\n",
       "                                - 01-01-2018                                         \n",
       "===================================================================================================\n",
       "                                      coef    std err          z      P>|z|      [0.025      0.975]\n",
       "---------------------------------------------------------------------------------------------------\n",
       "const                            -117.5657    213.401     -0.551      0.582    -535.824     300.693\n",
       "ar.L1.D2.total enrollment diff2    -0.7192      0.240     -2.998      0.003      -1.189      -0.249\n",
       "                                    Roots                                    \n",
       "=============================================================================\n",
       "                  Real          Imaginary           Modulus         Frequency\n",
       "-----------------------------------------------------------------------------\n",
       "AR.1           -1.3903           +0.0000j            1.3903            0.5000\n",
       "-----------------------------------------------------------------------------\n",
       "\"\"\""
      ]
     },
     "execution_count": 27,
     "metadata": {},
     "output_type": "execute_result"
    }
   ],
   "source": [
    "arima.summary()"
   ]
  },
  {
   "cell_type": "code",
   "execution_count": 28,
   "id": "9faa78d4-8258-421e-a5c4-3f54b428ad6a",
   "metadata": {},
   "outputs": [
    {
     "data": {
      "text/plain": [
       "const                             -117.565719\n",
       "ar.L1.D2.total enrollment diff2     -0.719247\n",
       "dtype: float64"
      ]
     },
     "execution_count": 28,
     "metadata": {},
     "output_type": "execute_result"
    }
   ],
   "source": [
    "arima.params"
   ]
  },
  {
   "cell_type": "code",
   "execution_count": 29,
   "id": "029cdba1-cf46-48d0-9aad-a0321e94d934",
   "metadata": {},
   "outputs": [],
   "source": [
    "# generating predictions based on training (in sample) and test (out of sample) sets\n",
    "preds_test = model.predict(params = arima.params, start=y_test.index[0], end = y_test.index[-1])\n",
    "preds_train = model.predict(params = arima.params, start=y_train.index[2], end = y_train.index[-1])"
   ]
  },
  {
   "cell_type": "code",
   "execution_count": null,
   "id": "f175acce-f2e2-4c67-b97c-c077aed42f36",
   "metadata": {
    "tags": []
   },
   "outputs": [],
   "source": []
  },
  {
   "cell_type": "code",
   "execution_count": null,
   "id": "b5de3701-9e12-4532-8854-8010f8508676",
   "metadata": {
    "tags": []
   },
   "outputs": [],
   "source": []
  },
  {
   "cell_type": "code",
   "execution_count": 30,
   "id": "a2353c8c-04e4-43f9-8feb-80c48e681a66",
   "metadata": {},
   "outputs": [
    {
     "data": {
      "image/png": "[encoded data removed]",
      "text/plain": [
       "<Figure size 720x432 with 1 Axes>"
      ]
     },
     "metadata": {
      "needs_background": "light"
     },
     "output_type": "display_data"
    }
   ],
   "source": [
    "# Plot data.\n",
    "plt.figure(figsize=(10,6))\n",
    "\n",
    "# Plot training data.\n",
    "plt.plot(y_train.index, pd.DataFrame(y_train), color = 'blue')\n",
    "\n",
    "# Plot testing data.\n",
    "plt.plot(y_test.index, pd.DataFrame(y_test), color = 'orange')\n",
    "\n",
    "# Plot predicted test values.\n",
    "plt.plot(y_test.index, preds_test, color = 'green')\n",
    "plt.plot(y_train.index[2:], preds_train, color = 'red')\n",
    "\n",
    "plt.legend(['actual enrollment training', 'actual enrollment testing', 'predicted testing', 'predicted training'])\n",
    "plt.title(label = f'Double differenced enrollment data fit with ARIMA Predictions, no exogenous', fontsize=16)\n",
    "plt.show();"
   ]
  },
  {
   "cell_type": "markdown",
   "id": "a8dfe632-f10e-4cd2-9498-2c64bcd40f6a",
   "metadata": {},
   "source": [
    "Now to get back to the actual enrollment, sum up the changes?  I am really not sure how to undo the double difference to get back to the original prediction?  \n"
   ]
  },
  {
   "cell_type": "code",
   "execution_count": 31,
   "id": "7331cea7-af03-44f2-a9f2-66c81dfcc208",
   "metadata": {},
   "outputs": [
    {
     "data": {
      "text/plain": [
       "(978.289701750095, 2067.654016356238)"
      ]
     },
     "execution_count": 31,
     "metadata": {},
     "output_type": "execute_result"
    }
   ],
   "source": [
    "# find RMSE\n",
    "mean_squared_error(y_train[2:], preds_train, squared = False),mean_squared_error(y_test, preds_test, squared = False) "
   ]
  },
  {
   "cell_type": "code",
   "execution_count": 32,
   "id": "b52f1222-be26-4b17-bd08-9768d9bdd572",
   "metadata": {},
   "outputs": [],
   "source": [
    "# now figure out the exogenous data\n",
    "#exog = modeldf['total kid population'] # this one works\n",
    "\n",
    "modeldf['kid population lag 1 year'] = modeldf['total kid population'].shift(1)\n",
    "exog = modeldf['kid population lag 1 year']\n",
    "exog_train = exog[(exog.index>=y_train.index[0]) & (exog.index<=y_train.index[-1])]\n",
    "\n",
    "exog_test = exog[(exog.index>=y_test.index[0]) & (exog.index<=y_test.index[-1])]\n",
    "\n",
    "# inferring the frequency\n",
    "exog_train.index = pd.DatetimeIndex(exog_train.index.values,\n",
    "                               freq=exog_train.index.inferred_freq)\n",
    "exog_test.index = pd.DatetimeIndex(exog_test.index.values,\n",
    "                               freq=exog_test.index.inferred_freq)"
   ]
  },
  {
   "cell_type": "code",
   "execution_count": 33,
   "id": "44ffd92f-01dc-4fe5-a6d3-29b9f4307e61",
   "metadata": {},
   "outputs": [
    {
     "data": {
      "text/plain": [
       "2012-01-01     94845.8\n",
       "2013-01-01     96178.6\n",
       "2014-01-01     97511.4\n",
       "2015-01-01     98844.2\n",
       "2016-01-01    100177.0\n",
       "2017-01-01    101509.8\n",
       "2018-01-01    102842.6\n",
       "Freq: AS-JAN, Name: kid population lag 1 year, dtype: float64"
      ]
     },
     "execution_count": 33,
     "metadata": {},
     "output_type": "execute_result"
    }
   ],
   "source": [
    "exog_train"
   ]
  },
  {
   "cell_type": "code",
   "execution_count": 34,
   "id": "4066f307-c78e-4969-967f-3a9994ec756b",
   "metadata": {},
   "outputs": [
    {
     "name": "stdout",
     "output_type": "stream",
     "text": [
      "\n",
      "The AIC for ARIMA(0,2,0) is: 91.17882116307189\n",
      "\n",
      "\n",
      "\n",
      "\n",
      "\n",
      "The AIC for ARIMA(1,2,0) is: 88.65823238278647\n",
      "\n",
      "\n",
      "\n",
      "\n",
      "\n",
      "\n",
      "\n",
      "\n",
      "\n",
      "\n",
      "\n",
      "\n",
      "\n",
      "\n",
      "\n",
      "\n",
      "\n",
      "\n",
      "\n",
      "\n",
      "\n",
      "MODEL FINISHED!\n",
      "Our model that minimizes AIC on the training data is the ARIMA(1,2,0).\n",
      "This model has an AIC of 88.65823238278647.\n"
     ]
    },
    {
     "name": "stderr",
     "output_type": "stream",
     "text": [
      "/Users/mamabear/opt/anaconda3/lib/python3.8/site-packages/statsmodels/tsa/arima_model.py:472: FutureWarning: \n",
      "statsmodels.tsa.arima_model.ARMA and statsmodels.tsa.arima_model.ARIMA have\n",
      "been deprecated in favor of statsmodels.tsa.arima.model.ARIMA (note the .\n",
      "between arima and model) and\n",
      "statsmodels.tsa.SARIMAX. These will be removed after the 0.12 release.\n",
      "\n",
      "statsmodels.tsa.arima.model.ARIMA makes use of the statespace framework and\n",
      "is both well tested and maintained.\n",
      "\n",
      "To silence this warning and continue using ARMA and ARIMA until they are\n",
      "removed, use:\n",
      "\n",
      "import warnings\n",
      "warnings.filterwarnings('ignore', 'statsmodels.tsa.arima_model.ARMA',\n",
      "                        FutureWarning)\n",
      "warnings.filterwarnings('ignore', 'statsmodels.tsa.arima_model.ARIMA',\n",
      "                        FutureWarning)\n",
      "\n",
      "  warnings.warn(ARIMA_DEPRECATION_WARN, FutureWarning)\n",
      "/Users/mamabear/opt/anaconda3/lib/python3.8/site-packages/statsmodels/tsa/tsatools.py:728: RuntimeWarning: divide by zero encountered in true_divide\n",
      "  invmacoefs = -np.log((1-macoefs)/(1+macoefs))\n",
      "/Users/mamabear/opt/anaconda3/lib/python3.8/site-packages/statsmodels/tsa/tsatools.py:701: RuntimeWarning: invalid value encountered in true_divide\n",
      "  newparams = ((1-np.exp(-params))/(1+np.exp(-params))).copy()\n",
      "/Users/mamabear/opt/anaconda3/lib/python3.8/site-packages/statsmodels/tsa/tsatools.py:702: RuntimeWarning: invalid value encountered in true_divide\n",
      "  tmp = ((1-np.exp(-params))/(1+np.exp(-params))).copy()\n",
      "/Users/mamabear/opt/anaconda3/lib/python3.8/site-packages/scipy/optimize/_numdiff.py:470: RuntimeWarning: invalid value encountered in subtract\n",
      "  dx = ((x0 + h) - x0)\n",
      "/Users/mamabear/opt/anaconda3/lib/python3.8/site-packages/scipy/optimize/_numdiff.py:556: RuntimeWarning: invalid value encountered in double_scalars\n",
      "  dx = x[i] - x0[i]  # Recompute dx as exactly representable number.\n",
      "/Users/mamabear/opt/anaconda3/lib/python3.8/site-packages/statsmodels/tools/numdiff.py:241: RuntimeWarning: invalid value encountered in add\n",
      "  hess[i, j] = (f(*((x + 1j*ee[i, :] + ee[j, :],) + args), **kwargs)\n",
      "/Users/mamabear/opt/anaconda3/lib/python3.8/site-packages/statsmodels/tools/numdiff.py:241: RuntimeWarning: invalid value encountered in multiply\n",
      "  hess[i, j] = (f(*((x + 1j*ee[i, :] + ee[j, :],) + args), **kwargs)\n",
      "/Users/mamabear/opt/anaconda3/lib/python3.8/site-packages/statsmodels/tools/numdiff.py:242: RuntimeWarning: invalid value encountered in multiply\n",
      "  - f(*((x + 1j*ee[i, :] - ee[j, :],)+args),\n",
      "/Users/mamabear/opt/anaconda3/lib/python3.8/site-packages/statsmodels/base/model.py:547: HessianInversionWarning: Inverting hessian failed, no bse or cov_params available\n",
      "  warnings.warn('Inverting hessian failed, no bse or cov_params '\n",
      "/Users/mamabear/opt/anaconda3/lib/python3.8/site-packages/statsmodels/base/model.py:566: ConvergenceWarning: Maximum Likelihood optimization failed to converge. Check mle_retvals\n",
      "  warnings.warn(\"Maximum Likelihood optimization failed to \"\n",
      "/Users/mamabear/opt/anaconda3/lib/python3.8/site-packages/statsmodels/regression/linear_model.py:1434: RuntimeWarning: invalid value encountered in sqrt\n",
      "  return rho, np.sqrt(sigmasq)\n",
      "/Users/mamabear/opt/anaconda3/lib/python3.8/site-packages/statsmodels/tsa/arima_model.py:472: FutureWarning: \n",
      "statsmodels.tsa.arima_model.ARMA and statsmodels.tsa.arima_model.ARIMA have\n",
      "been deprecated in favor of statsmodels.tsa.arima.model.ARIMA (note the .\n",
      "between arima and model) and\n",
      "statsmodels.tsa.SARIMAX. These will be removed after the 0.12 release.\n",
      "\n",
      "statsmodels.tsa.arima.model.ARIMA makes use of the statespace framework and\n",
      "is both well tested and maintained.\n",
      "\n",
      "To silence this warning and continue using ARMA and ARIMA until they are\n",
      "removed, use:\n",
      "\n",
      "import warnings\n",
      "warnings.filterwarnings('ignore', 'statsmodels.tsa.arima_model.ARMA',\n",
      "                        FutureWarning)\n",
      "warnings.filterwarnings('ignore', 'statsmodels.tsa.arima_model.ARIMA',\n",
      "                        FutureWarning)\n",
      "\n",
      "  warnings.warn(ARIMA_DEPRECATION_WARN, FutureWarning)\n",
      "/Users/mamabear/opt/anaconda3/lib/python3.8/site-packages/statsmodels/regression/linear_model.py:1434: RuntimeWarning: invalid value encountered in sqrt\n",
      "  return rho, np.sqrt(sigmasq)\n"
     ]
    }
   ],
   "source": [
    "\n",
    "# using the manual grid search as we did in lesson 10.03 on ARIMA modeling\n",
    "# Starting AIC, p, and q.\n",
    "best_aic = 99e16\n",
    "best_p = 0\n",
    "best_q = 0\n",
    "\n",
    "# Use nested for loop to iterate over values of p and q.\n",
    "for p in range(5):\n",
    "    for q in range(5):\n",
    "        # Insert try and except statements.\n",
    "        try:  \n",
    "            # Fitting an ARIMA(p, 1, q) model.\n",
    "            print(f'')\n",
    "            # Instantiate ARIMA model.\n",
    "            arima = ARIMA(endog = y_train.astype(float).dropna(),exog = exog_train,order = (p,2,q))\n",
    "            # Fit ARIMA model.\n",
    "            model = arima.fit(method_kwargs={\"warn_convergence\": False})\n",
    "            # Print out AIC for ARIMA(p, 1, q) model.\n",
    "            print(f'The AIC for ARIMA({p},2,{q}) is: {model.aic}')\n",
    "            # Is my current model's AIC better than our best_aic?\n",
    "            if model.aic < best_aic:        \n",
    "                # If so, let's overwrite best_aic, best_p, and best_q.\n",
    "                best_aic = model.aic\n",
    "                best_p = p\n",
    "                best_q = q\n",
    "        except:\n",
    "            pass\n",
    "print()\n",
    "print()\n",
    "print('MODEL FINISHED!')\n",
    "print(f'Our model that minimizes AIC on the training data is the ARIMA({best_p},2,{best_q}).')\n",
    "print(f'This model has an AIC of {best_aic}.')"
   ]
  },
  {
   "cell_type": "code",
   "execution_count": 35,
   "id": "4218ae7f-c678-4478-b825-93a16665abd0",
   "metadata": {},
   "outputs": [],
   "source": [
    "model2 = ARIMA(endog = y_train.astype(float).dropna(),exog = exog_train,order = (1,2,0))"
   ]
  },
  {
   "cell_type": "code",
   "execution_count": 36,
   "id": "dca22f7a-a03f-4fb4-81e5-f85429e6b41c",
   "metadata": {},
   "outputs": [],
   "source": [
    "arima2 = model2.fit()"
   ]
  },
  {
   "cell_type": "code",
   "execution_count": 37,
   "id": "538df1f0-7d7e-470c-97e7-3648fdc3fa8d",
   "metadata": {},
   "outputs": [],
   "source": [
    "# generating predictions based on training (in sample) and test (out of sample) sets\n",
    "preds_test2 = model2.predict(params = arima2.params, exog = exog_test, start=y_test.index[0], end = y_test.index[-1])\n",
    "preds_train2 = model2.predict(params = arima2.params, exog= exog_train, start=y_train.index[2], end = y_train.index[-1])"
   ]
  },
  {
   "cell_type": "code",
   "execution_count": 38,
   "id": "5007a040-0b3b-44c7-a2c5-13f19e78996a",
   "metadata": {},
   "outputs": [
    {
     "data": {
      "image/png": "[encoded data removed]",
      "text/plain": [
       "<Figure size 720x432 with 1 Axes>"
      ]
     },
     "metadata": {
      "needs_background": "light"
     },
     "output_type": "display_data"
    }
   ],
   "source": [
    "# Plot data.\n",
    "plt.figure(figsize=(10,6))\n",
    "\n",
    "# Plot training data.\n",
    "plt.plot(y_train.index, pd.DataFrame(y_train), color = 'blue')\n",
    "\n",
    "# Plot testing data.\n",
    "plt.plot(y_test.index, pd.DataFrame(y_test), color = 'orange')\n",
    "\n",
    "# Plot predicted test values.\n",
    "plt.plot(y_test.index, preds_test2, color = 'green')\n",
    "plt.plot(y_train.index[2:], preds_train2, color = 'red')\n",
    "\n",
    "plt.legend(['actual enrollment training', 'actual enrollment testing', 'predicted testing', 'predicted training'])\n",
    "plt.title(label = f'Double differenced enrollment data fit with ARIMA Predictions, kid population exogenous', fontsize=14)\n",
    "plt.xlabel('Year')\n",
    "plt.show();"
   ]
  },
  {
   "cell_type": "markdown",
   "id": "f4212f9a-09a4-4659-b6b9-596b80bbbad7",
   "metadata": {},
   "source": [
    "# Model evaluation\n",
    "Root mean square error is used to compare the models.  This allows comparison of performance for the various models."
   ]
  },
  {
   "cell_type": "code",
   "execution_count": 39,
   "id": "e5db80e8-672f-4964-b176-343019593396",
   "metadata": {
    "tags": []
   },
   "outputs": [
    {
     "name": "stdout",
     "output_type": "stream",
     "text": [
      "ARIMA: no exogenous data\n",
      "978.289701750095 4275193.131354083\n",
      "\n",
      "ARIMA: exogenous population data \n",
      "972.7625496973519 4489167.062451268\n",
      "\n",
      "Null model\n",
      "459.4973962307699 1594.1124489821914\n"
     ]
    }
   ],
   "source": [
    "# compute RMSE for each model\n",
    "# ARIMA no exog\n",
    "print('ARIMA: no exogenous data')\n",
    "print(mean_squared_error(y_train[2:],preds_train, squared=False),mean_squared_error(y_test,preds_test))\n",
    "print()\n",
    "# ARIMA population exog\n",
    "print('ARIMA: exogenous population data ')\n",
    "print(mean_squared_error(y_train[2:],preds_train2, squared=False),mean_squared_error(y_test,preds_test2))\n",
    "print()\n",
    "# Null mode\n",
    "# using the average enrollment as the value input to the model\n",
    "# this would result in a twice differenced value of 0.  \n",
    "average_enrollment = np.average(modeldf[(modeldf.index>=y_train.index[0])& (modeldf.index<=y_train.index[-1])]['total enrollment'].dropna()) # drop nans first\n",
    "nulltrain = y_train*0 \n",
    "nulltest = y_test*0 \n",
    "print('Null model')\n",
    "print(mean_squared_error(y_train,nulltrain, squared=False), mean_squared_error(y_test,nulltest,squared=False))\n",
    "\n"
   ]
  },
  {
   "cell_type": "markdown",
   "id": "b735d1b9-cf77-4758-b317-0cd97f84c2d8",
   "metadata": {},
   "source": [
    "The null model has small and is relatively consist between training and testing data.   \n",
    "\n",
    "The no-exogenous data ARIMA model shows significantly worse performance by a factor of 2 for training data.\n",
    "\n",
    "The ARIMA model using exogenous population data shows almost no improvement over the base ARIMA model.   \n",
    "\n",
    "Both ARIMA models show large errors for the most recent (test) data.  This is most likely coming from the large decline in enrollment experience in 2020 due to the global pandemic and not an issue with the model itself.  \n",
    "\n",
    "Overall the ARIMA model does not show improvement over a simple null model predicting the average enrollment.  "
   ]
  },
  {
   "cell_type": "markdown",
   "id": "f36e60b9-e304-469f-b756-872ee97fac3a",
   "metadata": {},
   "source": [
    "Given the complexity of the ARIMA model, the null model is strongly preferred.  It provides better performance for a much lower complexity.  "
   ]
  },
  {
   "cell_type": "markdown",
   "id": "acea42bf-daaf-4ef3-a861-a973d6dc2f6c",
   "metadata": {},
   "source": [
    "# Modeling Results"
   ]
  },
  {
   "cell_type": "markdown",
   "id": "57a50577-cb49-4a21-8d49-c8cdc227319b",
   "metadata": {},
   "source": [
    "The baseline model assigning the average enrollment for the previous few years shows strong performance.  The ARIMA models show worse performance than a simple averaging model.  \n",
    "\n",
    "There is a general trend up in the enrollment data \n",
    "\n",
    "\n",
    "\n"
   ]
  },
  {
   "cell_type": "code",
   "execution_count": 41,
   "id": "9ca487f2-f567-4ece-8c0b-c9d3e222ac0b",
   "metadata": {},
   "outputs": [],
   "source": [
    "# MLR model\n",
    "from sklearn.linear_model import LinearRegression"
   ]
  },
  {
   "cell_type": "code",
   "execution_count": null,
   "id": "e48ed1e9-c49e-4785-872a-bcd2f249c7a9",
   "metadata": {},
   "outputs": [],
   "source": []
  }
 ],
 "metadata": {
  "kernelspec": {
   "display_name": "Python 3",
   "language": "python",
   "name": "python3"
  },
  "language_info": {
   "codemirror_mode": {
    "name": "ipython",
    "version": 3
   },
   "file_extension": ".py",
   "mimetype": "text/x-python",
   "name": "python",
   "nbconvert_exporter": "python",
   "pygments_lexer": "ipython3",
   "version": "3.8.8"
  }
 },
 "nbformat": 4,
 "nbformat_minor": 5
}
