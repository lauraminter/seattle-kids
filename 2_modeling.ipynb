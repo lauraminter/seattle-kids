{
 "cells": [
  {
   "cell_type": "markdown",
   "id": "b3ff6ce7-6ac9-44e2-a990-deccf26b3b94",
   "metadata": {},
   "source": [
    "# Seattle kids: changing demographics and the implications for public schools\n",
    "by Laura Minter, December 2021\n",
    "## Notebook 2: modeling\n",
    "This notebook assumes the [data cleaning notebook]('./1_data_cleaning.ipynb') has been succesfully run to prepare data.  "
   ]
  },
  {
   "cell_type": "markdown",
   "id": "b803696c-b8ab-4509-9636-cd2a74afc5a8",
   "metadata": {
    "tags": []
   },
   "source": [
    "## Problem Statement:\n",
    "\n",
    "What role does density play in the distribution of children in Seattle's Urban Centers and Villages?\n",
    "\n",
    "What role do Urban Centers and Villages play in changing enrollments in Seattle Public Schools?\n",
    "\n",
    "Can we model enrollment using population data alone?  Does density help us with modeling?"
   ]
  },
  {
   "cell_type": "markdown",
   "id": "588541e6-dfdd-4679-b6f5-0d99049afc5b",
   "metadata": {},
   "source": [
    "# Modeling approach\n",
    "\n",
    "Target model: linear regression relating enrollment data to the child population data.\n",
    "\n",
    "In order to model annual enrollment, yearly population estimates were obtained by interpolating between census years.  While this is certainly not an exact value for the true population it provides a reasonable estimate for years in between the decennial census data.  Population lags will be considered to account for typical delays of 5, 10 and 15 years between birth and enrollment in elementary, middle, and high school, respectively.  Alternatively, data from the American Community Survey could be used but would require aggregating census tract data to arrive at UCV-level population.  \n",
    "\n",
    "Models to evaluate:\n",
    "- Simple linear regression on child population alone\n",
    "- Multiple linear regression on child population and time lagged population\n",
    "- NULL model assuming enrollment is average of years reported (training data only)\n",
    "\n",
    "Averages for the null models are computed alongside each linear regression to ensure consist definitions of training and testing data.  "
   ]
  },
  {
   "cell_type": "code",
   "execution_count": 1,
   "id": "eb2b66bc-453f-475a-b906-8ef8d259d4c6",
   "metadata": {
    "tags": []
   },
   "outputs": [],
   "source": [
    "#imports\n",
    "import pandas as pd\n",
    "import numpy as np\n",
    "import matplotlib.pyplot as plt\n",
    "import seaborn as sns\n",
    "\n",
    "from sklearn.model_selection import train_test_split\n",
    "\n",
    "#Linear stuff\n",
    "from sklearn.linear_model import LinearRegression\n",
    "from sklearn.metrics import mean_squared_error, r2_score"
   ]
  },
  {
   "cell_type": "code",
   "execution_count": 2,
   "id": "3a31e266-4bec-43ed-a928-67e4a3f94084",
   "metadata": {
    "tags": []
   },
   "outputs": [],
   "source": [
    "# read in the data\n",
    "ucvkids = pd.read_csv('./data/seattle_ucv_kids_cleaned.csv')\n",
    "kids = pd.read_csv('./data/seattle_kids_cleaned.csv')\n",
    "pop = pd.read_csv('./data/seattle_pop_cleaned.csv')\n",
    "ucvpop = pd.read_csv('./data/seattle_ucv_pop_cleaned.csv')\n",
    "\n",
    "enrollment = pd.read_csv('./data/enrollmentdata/enrollment_cleaned.csv')"
   ]
  },
  {
   "cell_type": "code",
   "execution_count": 3,
   "id": "d88b1a34-e6ca-44fb-8618-9cd1b2e49426",
   "metadata": {
    "tags": []
   },
   "outputs": [],
   "source": [
    "# starting with overall population\n",
    "\n",
    "pop_interp = pop[['NEIGH_NAME','NEIGH_NO', 'AREA_ACRES']+[col for col in pop.columns if 'TOT_POP' in col]].copy()\n",
    "pop_interp.columns = ['neighborhood','neighborhood_no','area','1990', '2000', '2010', '2020']\n",
    "\n",
    "#ucv total population, select coumns and rename\n",
    "ucv_interp = ucvpop[['NEIGH_NAME','NEIGH_NO', 'AREA_ACRES']+[col for col in pop.columns if 'TOT_POP' in col]].copy()\n",
    "ucv_interp.columns = ['neighborhood','neighborhood_no','area','1990', '2000', '2010', '2020']\n",
    "\n",
    "# kids columns already selected and renamed\n",
    "kids_interp = kids.copy()\n",
    "kids_interp.set_index('neighborhood')\n",
    "\n",
    "\n",
    "# ucvkids need to select columns, already renamed\n",
    "ucvkids_interp = ucvkids[['neighborhood','neighborhood_no','area','1990', '2000', '2010', '2020']].copy()"
   ]
  },
  {
   "cell_type": "markdown",
   "id": "be7d9a8c-9e72-40be-85b5-fc173738e750",
   "metadata": {},
   "source": [
    "### Preparing time lags  "
   ]
  },
  {
   "cell_type": "code",
   "execution_count": 4,
   "id": "8106d03b-ac9d-44c6-8212-adc1aba73cc8",
   "metadata": {
    "tags": []
   },
   "outputs": [],
   "source": [
    "# interpolate using 1/10 the difference between 2020 and 2010 for each area\n",
    "for i in range(1,10):\n",
    "    year = 2010+i\n",
    "    pop_interp[f'{year}'] = pop_interp['2010']+(pop_interp['2020']- pop_interp['2010'])*i/10\n",
    "    ucv_interp[f'{year}'] = ucv_interp['2010']+(ucv_interp['2020']- ucv_interp['2010'])*i/10\n",
    "    kids_interp[f'{year}'] = kids_interp['2010']+(kids_interp['2020']- kids_interp['2010'])*i/10\n",
    "    ucvkids_interp[f'{year}'] = ucvkids_interp['2010']+(ucvkids_interp['2020']- ucvkids_interp['2010'])*i/10\n",
    "    \n",
    "    #same for 2000 to 2010\n",
    "    year = 2000+i\n",
    "    pop_interp[f'{year}'] = pop_interp['2000']+(pop_interp['2010']- pop_interp['2000'])*i/10\n",
    "    ucv_interp[f'{year}'] = ucv_interp['2000']+(ucv_interp['2010']- ucv_interp['2000'])*i/10\n",
    "    kids_interp[f'{year}'] = kids_interp['2000']+(kids_interp['2010']- kids_interp['2000'])*i/10\n",
    "    ucvkids_interp[f'{year}'] = ucvkids_interp['2000']+(ucvkids_interp['2010']- ucvkids_interp['2000'])*i/10\n",
    "    \n",
    "    #same for 1990 to 2000\n",
    "    year = 1990+i\n",
    "    pop_interp[f'{year}'] = pop_interp['1990']+(pop_interp['2000']- pop_interp['1990'])*i/10\n",
    "    ucv_interp[f'{year}'] = ucv_interp['1990']+(ucv_interp['2000']- ucv_interp['1990'])*i/10\n",
    "    kids_interp[f'{year}'] = kids_interp['1990']+(kids_interp['2000']- kids_interp['1990'])*i/10\n",
    "    ucvkids_interp[f'{year}'] = ucvkids_interp['1990']+(ucvkids_interp['2000']- ucvkids_interp['1990'])*i/10\n",
    "    \n",
    "    "
   ]
  },
  {
   "cell_type": "code",
   "execution_count": 5,
   "id": "b083ed6b-f9c6-4d94-8090-4c9a2646e5e7",
   "metadata": {
    "tags": []
   },
   "outputs": [
    {
     "data": {
      "text/html": [
       "<div>\n",
       "<style scoped>\n",
       "    .dataframe tbody tr th:only-of-type {\n",
       "        vertical-align: middle;\n",
       "    }\n",
       "\n",
       "    .dataframe tbody tr th {\n",
       "        vertical-align: top;\n",
       "    }\n",
       "\n",
       "    .dataframe thead th {\n",
       "        text-align: right;\n",
       "    }\n",
       "</style>\n",
       "<table border=\"1\" class=\"dataframe\">\n",
       "  <thead>\n",
       "    <tr style=\"text-align: right;\">\n",
       "      <th></th>\n",
       "      <th>year</th>\n",
       "      <th>total population</th>\n",
       "      <th>total ucv population</th>\n",
       "      <th>total kid population</th>\n",
       "      <th>total ucv kid population</th>\n",
       "      <th>total enrollment</th>\n",
       "      <th>middle enroll</th>\n",
       "      <th>high schools</th>\n",
       "      <th>elementary enroll</th>\n",
       "    </tr>\n",
       "  </thead>\n",
       "  <tbody>\n",
       "    <tr>\n",
       "      <th>26</th>\n",
       "      <td>2016</td>\n",
       "      <td>685673.0</td>\n",
       "      <td>273394.6</td>\n",
       "      <td>101509.8</td>\n",
       "      <td>24672.0</td>\n",
       "      <td>53102.0</td>\n",
       "      <td>9225.0</td>\n",
       "      <td>12702.0</td>\n",
       "      <td>29593.0</td>\n",
       "    </tr>\n",
       "    <tr>\n",
       "      <th>27</th>\n",
       "      <td>2017</td>\n",
       "      <td>698508.5</td>\n",
       "      <td>282122.7</td>\n",
       "      <td>102842.6</td>\n",
       "      <td>25168.5</td>\n",
       "      <td>53380.0</td>\n",
       "      <td>9433.0</td>\n",
       "      <td>13095.0</td>\n",
       "      <td>29387.0</td>\n",
       "    </tr>\n",
       "    <tr>\n",
       "      <th>28</th>\n",
       "      <td>2018</td>\n",
       "      <td>711344.0</td>\n",
       "      <td>290850.8</td>\n",
       "      <td>104175.4</td>\n",
       "      <td>25665.0</td>\n",
       "      <td>52931.0</td>\n",
       "      <td>9746.0</td>\n",
       "      <td>12942.0</td>\n",
       "      <td>28870.0</td>\n",
       "    </tr>\n",
       "    <tr>\n",
       "      <th>29</th>\n",
       "      <td>2019</td>\n",
       "      <td>724179.5</td>\n",
       "      <td>299578.9</td>\n",
       "      <td>105508.2</td>\n",
       "      <td>26161.5</td>\n",
       "      <td>53627.0</td>\n",
       "      <td>9836.0</td>\n",
       "      <td>13350.0</td>\n",
       "      <td>28957.0</td>\n",
       "    </tr>\n",
       "    <tr>\n",
       "      <th>30</th>\n",
       "      <td>2020</td>\n",
       "      <td>737015.0</td>\n",
       "      <td>308307.0</td>\n",
       "      <td>106841.0</td>\n",
       "      <td>26658.0</td>\n",
       "      <td>52381.0</td>\n",
       "      <td>9977.0</td>\n",
       "      <td>13695.0</td>\n",
       "      <td>27297.0</td>\n",
       "    </tr>\n",
       "  </tbody>\n",
       "</table>\n",
       "</div>"
      ],
      "text/plain": [
       "    year  total population  total ucv population  total kid population  \\\n",
       "26  2016          685673.0              273394.6              101509.8   \n",
       "27  2017          698508.5              282122.7              102842.6   \n",
       "28  2018          711344.0              290850.8              104175.4   \n",
       "29  2019          724179.5              299578.9              105508.2   \n",
       "30  2020          737015.0              308307.0              106841.0   \n",
       "\n",
       "    total ucv kid population  total enrollment  middle enroll  high schools  \\\n",
       "26                   24672.0           53102.0         9225.0       12702.0   \n",
       "27                   25168.5           53380.0         9433.0       13095.0   \n",
       "28                   25665.0           52931.0         9746.0       12942.0   \n",
       "29                   26161.5           53627.0         9836.0       13350.0   \n",
       "30                   26658.0           52381.0         9977.0       13695.0   \n",
       "\n",
       "    elementary enroll  \n",
       "26            29593.0  \n",
       "27            29387.0  \n",
       "28            28870.0  \n",
       "29            28957.0  \n",
       "30            27297.0  "
      ]
     },
     "execution_count": 5,
     "metadata": {},
     "output_type": "execute_result"
    }
   ],
   "source": [
    "# now get them into time order by breaking down in terms of year and getting required info\n",
    "# we will separate by year, accumulated the desired values and put them in a dictionary\n",
    "# then we can make the dictionary into a dataframe\n",
    "\n",
    "basic_cols = ['neighborhood', 'neighborhood_no', 'area']\n",
    "pop_info = [] #empty list for storing dictionary entries for df?\n",
    "\n",
    "for year in range(1990, 2021):\n",
    "    info = {}\n",
    "    \n",
    "    # population totals we want\n",
    "    info['year'] = year\n",
    "    info['total population'] = np.sum(pop_interp[f'{year}'])\n",
    "    info['total ucv population'] = np.sum(ucv_interp[f'{year}'])\n",
    "    info['total kid population'] = np.sum(kids_interp[f'{year}'])\n",
    "    info['total ucv kid population'] = np.sum(ucvkids_interp[f'{year}'])\n",
    "    \n",
    "    if year >= 2010:\n",
    "        # enrollment totals we want\n",
    "        e = enrollment[enrollment['Year']==year].copy()\n",
    "        info['total enrollment'] = e[e['School Name']=='TOTAL']['Enrollment'].values[0]\n",
    "        info['middle enroll'] = np.sum(e[e['Service Area']=='Middle Schools']['Enrollment'])\n",
    "        info['high schools'] = np.sum(e[e['Service Area']=='High Schools']['Enrollment'])\n",
    "        leveldict = {'High Schools':'h', 'Middle Schools':'m', 'Service Schools':'s', 'Option Schools with Continuous Enrollment':'o', 'All':'a'}\n",
    "        e['type'] = e['Service Area'].map(lambda x: leveldict.get(x,'e')) #if not one of the other levels, it is an elementary school\n",
    "        info['elementary enroll'] = np.sum(e[e['type']=='e']['Enrollment'])\n",
    "\n",
    "    pop_info.append(info)\n",
    "\n",
    "# put it all into a dataframe\n",
    "modeldf = pd.DataFrame(pop_info)\n",
    "\n",
    "\n",
    "modeldf.tail()"
   ]
  },
  {
   "cell_type": "code",
   "execution_count": 6,
   "id": "f46f271a-332f-4eed-8642-0c9341668ee6",
   "metadata": {
    "tags": []
   },
   "outputs": [],
   "source": [
    "# add population lags according to enrollment timeframes from birth\n",
    "modeldf['total kid population 5 year lag'] = modeldf['total kid population'].shift(5)\n",
    "modeldf['total kid population 10 year lag'] = modeldf['total kid population'].shift(10)\n",
    "modeldf['total kid population 15 year lag'] = modeldf['total kid population'].shift(15)\n",
    "modeldf.dropna(inplace = True)"
   ]
  },
  {
   "cell_type": "markdown",
   "id": "583393ac-d86f-4e57-811a-d6f3a0a4af81",
   "metadata": {},
   "source": [
    "## Brief look at correlations in data"
   ]
  },
  {
   "cell_type": "code",
   "execution_count": 7,
   "id": "016b6da7-c84e-47a4-b626-95826cbf701e",
   "metadata": {},
   "outputs": [
    {
     "data": {
      "image/png": "[encoded data removed]",
      "text/plain": [
       "<Figure size 432x288 with 2 Axes>"
      ]
     },
     "metadata": {
      "needs_background": "light"
     },
     "output_type": "display_data"
    }
   ],
   "source": [
    "corr = modeldf.corr()\n",
    "mask = np.zeros_like(corr)\n",
    "mask[np.triu_indices_from(mask)] = True\n",
    "sns.heatmap(corr, mask = mask, vmin = -1, vmax = 1);"
   ]
  },
  {
   "cell_type": "markdown",
   "id": "80b7fb8a-9a83-4266-bc1e-f5b9ba58d355",
   "metadata": {},
   "source": [
    "Many of the features are strongly correlated.  This is unsurprising given that growth in UCVs necessarily means growth in the city.  We can trim the columns down to ensure we are not overfitting.  Starting with a model that just has the current population."
   ]
  },
  {
   "cell_type": "code",
   "execution_count": 8,
   "id": "7ac0b788-6372-4e45-930a-92df6a5c0bbf",
   "metadata": {},
   "outputs": [
    {
     "data": {
      "image/png": "[encoded data removed]",
      "text/plain": [
       "<Figure size 432x288 with 1 Axes>"
      ]
     },
     "metadata": {
      "needs_background": "light"
     },
     "output_type": "display_data"
    }
   ],
   "source": [
    "plt.plot(modeldf['total kid population'], modeldf['total enrollment'], '*');\n",
    "plt.title('Enrollment vs Total Child Population');\n",
    "plt.xlabel('total child population (interpolated)');\n",
    "plt.ylabel('total school enrollment');"
   ]
  },
  {
   "cell_type": "markdown",
   "id": "627e089f-288d-4566-a227-5e156f9b811a",
   "metadata": {},
   "source": [
    "## Functions for scoring models\n",
    "\n",
    "#### Note on Null Model Comparisons\n",
    "The null model consists of using the average enrollment from the training set to determine the predicted enrollment.  This is sensitive to the way the data is split but should give a reasonable comparison.  The R2 score is relative to this averaged model so this is expected to be 0.  The RMSE, on the other hand, gives a sense of overall how much error there is in the model.  "
   ]
  },
  {
   "cell_type": "code",
   "execution_count": 9,
   "id": "9e480836-753f-48ae-98b6-a367db1283c9",
   "metadata": {},
   "outputs": [],
   "source": [
    "#function to get the null model metrics given the split data\n",
    "def get_null_metrics(y_train, y_test):\n",
    "    # computing null model metrics\n",
    "    print('Null model metrics:\\n')\n",
    "    print('R2 score')\n",
    "    print('training     testing')\n",
    "    print(round(r2_score(y_train,np.zeros_like(y_train)+ np.mean(y_train)),2), \n",
    "          '        ',round(r2_score(y_test,np.zeros_like(y_test)+ np.mean(y_train)),2))\n",
    "    print()\n",
    "    print('RMSE:')\n",
    "    print('training     testing')\n",
    "\n",
    "\n",
    "    print(round((np.sum((y_train- np.mean(y_train))**2))**0.5,2),\n",
    "          '    ' ,round((np.sum((y_test- np.mean(y_test))**2))**0.5,2))"
   ]
  },
  {
   "cell_type": "code",
   "execution_count": 10,
   "id": "33398923-08e6-4134-9c30-4c7f07eeab4a",
   "metadata": {},
   "outputs": [],
   "source": [
    "# function for scoring a linear regression model\n",
    "def get_model_metrics(linear,X_train,X_test,y_train,y_test):\n",
    "    #score with R2 and RMSE\n",
    "    print('Linear model metrics:\\n')\n",
    "    print('R2 score:')\n",
    "    print('training     testing')\n",
    "    print(round(linear.score(X_train,y_train),4),'     ' ,round(linear.score(X_test,y_test),4))\n",
    "    print()\n",
    "    print('RMSE:')\n",
    "    print('training     testing')\n",
    "    print(round(mean_squared_error(y_train, linear.predict(X_train), squared = False),2),\n",
    "          '     ' ,round(mean_squared_error(y_test,linear.predict(X_test), squared = False),2))\n",
    "    print()\n"
   ]
  },
  {
   "cell_type": "markdown",
   "id": "f1c371c3-5930-4da4-bc3b-04a7ea682b7f",
   "metadata": {},
   "source": [
    "## Simple Linear Regression\n",
    "Total kid population as input.  Total enrollment as output"
   ]
  },
  {
   "cell_type": "code",
   "execution_count": 11,
   "id": "3650e7f4-b75e-468c-8aa1-5eea9cc09cde",
   "metadata": {
    "tags": []
   },
   "outputs": [],
   "source": [
    "# setup modeling data\n",
    "X = modeldf.drop(columns = ['year','total enrollment', 'middle enroll', 'high schools', \n",
    "                            'elementary enroll', 'total population', 'total ucv population', \n",
    "                            'total ucv kid population', 'total kid population 5 year lag',\n",
    "                            'total kid population 10 year lag', 'total kid population 15 year lag'])\n",
    "\n",
    "y = modeldf['total enrollment']\n",
    "\n",
    "X_train, X_test, y_train, y_test = train_test_split(X,y,random_state=42)"
   ]
  },
  {
   "cell_type": "code",
   "execution_count": 12,
   "id": "10cf4beb-dfaf-4b44-ab70-d2dfe6fa7cc1",
   "metadata": {},
   "outputs": [],
   "source": [
    "# instantiate and fit model\n",
    "linear = LinearRegression()\n",
    "linear.fit(X_train,y_train)\n",
    "\n",
    "#get the coefficients\n",
    "coef = dict(zip(X_train.columns,linear.coef_))"
   ]
  },
  {
   "cell_type": "code",
   "execution_count": 13,
   "id": "c4c58a5c-0188-4010-a50c-030edb67e282",
   "metadata": {},
   "outputs": [
    {
     "name": "stdout",
     "output_type": "stream",
     "text": [
      "Linear model metrics:\n",
      "\n",
      "R2 score:\n",
      "training     testing\n",
      "0.6808       0.76\n",
      "\n",
      "RMSE:\n",
      "training     testing\n",
      "914.08       1402.68\n",
      "\n"
     ]
    }
   ],
   "source": [
    "get_model_metrics(linear,X_train,X_test,y_train,y_test)"
   ]
  },
  {
   "cell_type": "code",
   "execution_count": 14,
   "id": "0da4fb50-7963-48a9-92d6-e7080dff6bc9",
   "metadata": {},
   "outputs": [
    {
     "name": "stdout",
     "output_type": "stream",
     "text": [
      "Null model metrics:\n",
      "\n",
      "R2 score\n",
      "training     testing\n",
      "0.0          -0.05\n",
      "\n",
      "RMSE:\n",
      "training     testing\n",
      "4575.76      4958.79\n"
     ]
    }
   ],
   "source": [
    "get_null_metrics(y_train,y_test)"
   ]
  },
  {
   "cell_type": "markdown",
   "id": "a3364efe-23ec-4d69-a87c-b86d0d936a2e",
   "metadata": {},
   "source": [
    "## Multiple Linear Regression: adding a time lag\n",
    "\n",
    "Total kid population, total kid population 5 year lag as input.  Total enrollment as output."
   ]
  },
  {
   "cell_type": "code",
   "execution_count": 15,
   "id": "e2feda84-7921-43b0-94ea-eee23bd410cf",
   "metadata": {},
   "outputs": [],
   "source": [
    "# setup modeling data\n",
    "X = modeldf.drop(columns = ['year','total enrollment', 'middle enroll', 'high schools', \n",
    "                            'elementary enroll', 'total population', 'total ucv population', \n",
    "                            'total ucv kid population', \n",
    "                            'total kid population 10 year lag', 'total kid population 15 year lag'])\n",
    "\n",
    "y = modeldf['total enrollment']\n",
    "\n",
    "X_train, X_test, y_train, y_test = train_test_split(X,y,random_state=42)"
   ]
  },
  {
   "cell_type": "code",
   "execution_count": 16,
   "id": "55a8487f-cde1-4622-b593-75656767009c",
   "metadata": {},
   "outputs": [
    {
     "data": {
      "text/plain": [
       "{'total kid population': 1.6938766599865147,\n",
       " 'total kid population 5 year lag': -1.8281598814718332}"
      ]
     },
     "execution_count": 16,
     "metadata": {},
     "output_type": "execute_result"
    }
   ],
   "source": [
    "linear = LinearRegression()\n",
    "linear.fit(X_train,y_train)\n",
    "dict(zip(X_train.columns,linear.coef_))"
   ]
  },
  {
   "cell_type": "code",
   "execution_count": 17,
   "id": "52208961-0358-437c-8e99-d45ffff6a3af",
   "metadata": {},
   "outputs": [
    {
     "name": "stdout",
     "output_type": "stream",
     "text": [
      "Linear model metrics:\n",
      "\n",
      "R2 score:\n",
      "training     testing\n",
      "0.9904       0.9126\n",
      "\n",
      "RMSE:\n",
      "training     testing\n",
      "158.84       846.41\n",
      "\n"
     ]
    }
   ],
   "source": [
    "get_model_metrics(linear,X_train,X_test,y_train,y_test)"
   ]
  },
  {
   "cell_type": "code",
   "execution_count": 18,
   "id": "09c1f812-dbc9-4b93-98c8-2ceabcf86af8",
   "metadata": {},
   "outputs": [
    {
     "name": "stdout",
     "output_type": "stream",
     "text": [
      "Null model metrics:\n",
      "\n",
      "R2 score\n",
      "training     testing\n",
      "0.0          -0.05\n",
      "\n",
      "RMSE:\n",
      "training     testing\n",
      "4575.76      4958.79\n"
     ]
    }
   ],
   "source": [
    "get_null_metrics(y_train,y_test)"
   ]
  },
  {
   "cell_type": "markdown",
   "id": "744c158c-a397-4e67-b432-38f2301a91bf",
   "metadata": {},
   "source": [
    "Adding the 5 year time lag data into the fold increases the R2 from around 70% to around 91%.  This means the new models explains an extra 21 percentage points of variation in the data.  There is some overfitting with an 8-point difference between training and testing scores.  Training and testing R2 are high and we get good performance even though the model has relatively high variance.  The overall RMSE is acceptable given that the total RMSE is less than 1% of the overall enrollment, even for the testing set.  "
   ]
  },
  {
   "cell_type": "markdown",
   "id": "d4856824-8d91-411d-96af-8b34f6c97079",
   "metadata": {},
   "source": [
    "## Looking at elementary school data\n",
    "\n",
    "Total kid population and 5-year lag as input.  Elementary enrollment as output"
   ]
  },
  {
   "cell_type": "code",
   "execution_count": 19,
   "id": "170d3f42-74b1-4abf-989e-b952fea74542",
   "metadata": {},
   "outputs": [],
   "source": [
    "# setup modeling data\n",
    "X = modeldf.drop(columns = ['year','total enrollment', 'middle enroll', 'high schools', \n",
    "                            'elementary enroll', 'total population', 'total ucv population', \n",
    "                            'total ucv kid population', \n",
    "                            'total kid population 10 year lag', 'total kid population 15 year lag'])\n",
    "\n",
    "y = modeldf['elementary enroll']\n",
    "\n",
    "X_train, X_test, y_train, y_test = train_test_split(X,y,random_state=42)"
   ]
  },
  {
   "cell_type": "code",
   "execution_count": 20,
   "id": "14e2a54d-6486-433b-9435-36b0ecc41f27",
   "metadata": {},
   "outputs": [
    {
     "data": {
      "text/plain": [
       "{'total kid population': 1.537069155556828,\n",
       " 'total kid population 5 year lag': -1.9751624256517544}"
      ]
     },
     "execution_count": 20,
     "metadata": {},
     "output_type": "execute_result"
    }
   ],
   "source": [
    "linear = LinearRegression()\n",
    "linear.fit(X_train,y_train)\n",
    "dict(zip(X_train.columns,linear.coef_))"
   ]
  },
  {
   "cell_type": "code",
   "execution_count": 21,
   "id": "fb765100-2c03-499b-ab4d-ece2c6b45c2f",
   "metadata": {},
   "outputs": [
    {
     "name": "stdout",
     "output_type": "stream",
     "text": [
      "Linear model metrics:\n",
      "\n",
      "R2 score:\n",
      "training     testing\n",
      "0.9701       0.8092\n",
      "\n",
      "RMSE:\n",
      "training     testing\n",
      "178.51       724.66\n",
      "\n"
     ]
    }
   ],
   "source": [
    "get_model_metrics(linear,X_train,X_test,y_train,y_test)"
   ]
  },
  {
   "cell_type": "code",
   "execution_count": 22,
   "id": "ec0ac74a-d38f-4a7d-be58-b11855f35765",
   "metadata": {},
   "outputs": [
    {
     "name": "stdout",
     "output_type": "stream",
     "text": [
      "Null model metrics:\n",
      "\n",
      "R2 score\n",
      "training     testing\n",
      "0.0          -0.04\n",
      "\n",
      "RMSE:\n",
      "training     testing\n",
      "2919.58      2873.41\n"
     ]
    }
   ],
   "source": [
    "get_null_metrics(y_train,y_test)"
   ]
  },
  {
   "cell_type": "markdown",
   "id": "66f8caff-1286-4032-848c-5a4cd06fbd34",
   "metadata": {},
   "source": [
    "Looking at elementary enrollment alone provides similar training R2 but a significantly lower testing R2.  That is, it appears to be overfit with a 16-point difference between training and testing R2 scores.  The total error, however, is significantly lower than the null model error and shows only minor overfitting.  "
   ]
  },
  {
   "cell_type": "markdown",
   "id": "7dee0cd8-fce4-4edb-bc71-220d9181c0d2",
   "metadata": {},
   "source": [
    "## Looking at middle school data\n",
    "\n",
    "Total kid population and 10-year lag as input.  Middle school enrollment as output"
   ]
  },
  {
   "cell_type": "code",
   "execution_count": 23,
   "id": "d535b686-2f2d-4433-a45d-dd46d7e6ebb7",
   "metadata": {},
   "outputs": [],
   "source": [
    "# setup modeling data\n",
    "X = modeldf.drop(columns = ['year','total enrollment', 'middle enroll', 'high schools', \n",
    "                            'elementary enroll', 'total population', 'total ucv population', \n",
    "                            'total ucv kid population', 'total kid population 5 year lag', \n",
    "                            'total kid population 15 year lag'])\n",
    "\n",
    "y = modeldf['middle enroll']\n",
    "\n",
    "X_train, X_test, y_train, y_test = train_test_split(X,y,random_state=42)"
   ]
  },
  {
   "cell_type": "code",
   "execution_count": 24,
   "id": "30569e46-84cd-49de-8814-fba287500f80",
   "metadata": {},
   "outputs": [
    {
     "data": {
      "text/plain": [
       "{'total kid population': 680499426338.9724,\n",
       " 'total kid population 10 year lag': -1595092570215.1824}"
      ]
     },
     "execution_count": 24,
     "metadata": {},
     "output_type": "execute_result"
    }
   ],
   "source": [
    "linear = LinearRegression()\n",
    "linear.fit(X_train,y_train)\n",
    "dict(zip(X_train.columns,linear.coef_))"
   ]
  },
  {
   "cell_type": "code",
   "execution_count": 25,
   "id": "1cd6e9ff-a22e-4f84-af43-408a92a77b84",
   "metadata": {},
   "outputs": [
    {
     "name": "stdout",
     "output_type": "stream",
     "text": [
      "Linear model metrics:\n",
      "\n",
      "R2 score:\n",
      "training     testing\n",
      "0.9893       0.985\n",
      "\n",
      "RMSE:\n",
      "training     testing\n",
      "70.51       110.76\n",
      "\n"
     ]
    }
   ],
   "source": [
    "get_model_metrics(linear,X_train,X_test,y_train,y_test)"
   ]
  },
  {
   "cell_type": "code",
   "execution_count": 26,
   "id": "ef1240ff-1e27-4f92-a811-f87e519d5cd3",
   "metadata": {},
   "outputs": [
    {
     "name": "stdout",
     "output_type": "stream",
     "text": [
      "Null model metrics:\n",
      "\n",
      "R2 score\n",
      "training     testing\n",
      "0.0          -0.06\n",
      "\n",
      "RMSE:\n",
      "training     testing\n",
      "1931.03      1567.64\n"
     ]
    }
   ],
   "source": [
    "get_null_metrics(y_train,y_test)"
   ]
  },
  {
   "cell_type": "markdown",
   "id": "12572d05-2ed8-4af6-addc-5d8d3ed023e7",
   "metadata": {},
   "source": [
    "Using a 10 year time lag on the population data is highly effective, giving an R2 of 98.5% with no evidence of overfitting.  This model shows very low RMSE, outperforming the null model on every metric.  "
   ]
  },
  {
   "cell_type": "markdown",
   "id": "d33bc28d-b56f-4a78-bc0e-5b1234d1a5fa",
   "metadata": {},
   "source": [
    "## Looking at high school data\n",
    "Total kid population and 15-year lag as input.  Elementary enrollment as output.\n",
    "\n",
    "Total kid population and 10-year lag as input.  Elementary enrollment as output."
   ]
  },
  {
   "cell_type": "code",
   "execution_count": 27,
   "id": "11f0d22a-57b7-40ea-8d9f-8d14cf9d26ae",
   "metadata": {},
   "outputs": [],
   "source": [
    "# setup modeling data\n",
    "X = modeldf.drop(columns = ['year','total enrollment', 'middle enroll', 'high schools', \n",
    "                            'elementary enroll', 'total population', 'total ucv population', \n",
    "                            'total ucv kid population', 'total kid population 5 year lag', \n",
    "                            'total kid population 10 year lag'])\n",
    "\n",
    "y = modeldf['high schools']\n",
    "\n",
    "X_train, X_test, y_train, y_test = train_test_split(X,y,random_state=42)"
   ]
  },
  {
   "cell_type": "code",
   "execution_count": 28,
   "id": "0de27b02-34b4-4c70-be15-b3e2ff758f86",
   "metadata": {},
   "outputs": [
    {
     "data": {
      "text/plain": [
       "{'total kid population': -0.1424926279547873,\n",
       " 'total kid population 15 year lag': 0.6535589660394874}"
      ]
     },
     "execution_count": 28,
     "metadata": {},
     "output_type": "execute_result"
    }
   ],
   "source": [
    "linear = LinearRegression()\n",
    "linear.fit(X_train,y_train)\n",
    "dict(zip(X_train.columns,linear.coef_))"
   ]
  },
  {
   "cell_type": "code",
   "execution_count": 29,
   "id": "f8762143-278e-413c-aa7d-625c27369145",
   "metadata": {},
   "outputs": [
    {
     "name": "stdout",
     "output_type": "stream",
     "text": [
      "Linear model metrics:\n",
      "\n",
      "R2 score:\n",
      "training     testing\n",
      "0.8344       0.7246\n",
      "\n",
      "RMSE:\n",
      "training     testing\n",
      "139.6       209.79\n",
      "\n"
     ]
    }
   ],
   "source": [
    "get_model_metrics(linear,X_train,X_test,y_train,y_test)"
   ]
  },
  {
   "cell_type": "code",
   "execution_count": 30,
   "id": "5f5b693d-c6e5-4713-98c9-c4546a93740d",
   "metadata": {},
   "outputs": [
    {
     "name": "stdout",
     "output_type": "stream",
     "text": [
      "Null model metrics:\n",
      "\n",
      "R2 score\n",
      "training     testing\n",
      "0.0          -0.01\n",
      "\n",
      "RMSE:\n",
      "training     testing\n",
      "970.18      692.42\n"
     ]
    }
   ],
   "source": [
    "get_null_metrics(y_train,y_test)"
   ]
  },
  {
   "cell_type": "code",
   "execution_count": 31,
   "id": "d20e5839-1249-44c5-886c-6c1b96b349bd",
   "metadata": {
    "tags": []
   },
   "outputs": [],
   "source": [
    "# setup modeling data\n",
    "X = modeldf.drop(columns = ['year','total enrollment', 'middle enroll', 'high schools', \n",
    "                            'elementary enroll', 'total population', 'total ucv population', \n",
    "                            'total ucv kid population', 'total kid population 5 year lag', \n",
    "                            'total kid population 15 year lag'])\n",
    "\n",
    "y = modeldf['high schools']\n",
    "\n",
    "X_train, X_test, y_train, y_test = train_test_split(X,y,random_state=42)"
   ]
  },
  {
   "cell_type": "code",
   "execution_count": 32,
   "id": "7a5458c8-0984-40da-94d0-9ce3b900f6ac",
   "metadata": {},
   "outputs": [
    {
     "data": {
      "text/plain": [
       "{'total kid population': -4194781568130.8594,\n",
       " 'total kid population 10 year lag': 9832579799516.21}"
      ]
     },
     "execution_count": 32,
     "metadata": {},
     "output_type": "execute_result"
    }
   ],
   "source": [
    "linear = LinearRegression()\n",
    "linear.fit(X_train,y_train)\n",
    "dict(zip(X_train.columns,linear.coef_))"
   ]
  },
  {
   "cell_type": "code",
   "execution_count": 33,
   "id": "772000a7-4ac7-4112-9037-d40e0643ff5e",
   "metadata": {},
   "outputs": [
    {
     "name": "stdout",
     "output_type": "stream",
     "text": [
      "Linear model metrics:\n",
      "\n",
      "R2 score:\n",
      "training     testing\n",
      "0.8121       0.9493\n",
      "\n",
      "RMSE:\n",
      "training     testing\n",
      "148.7       90.0\n",
      "\n"
     ]
    }
   ],
   "source": [
    "get_model_metrics(linear,X_train,X_test,y_train,y_test)"
   ]
  },
  {
   "cell_type": "code",
   "execution_count": 34,
   "id": "dacedc87-346e-4b85-b644-c82ba6743abd",
   "metadata": {},
   "outputs": [
    {
     "name": "stdout",
     "output_type": "stream",
     "text": [
      "Null model metrics:\n",
      "\n",
      "R2 score\n",
      "training     testing\n",
      "0.0          -0.01\n",
      "\n",
      "RMSE:\n",
      "training     testing\n",
      "970.18      692.42\n"
     ]
    }
   ],
   "source": [
    "get_null_metrics(y_train,y_test)"
   ]
  },
  {
   "cell_type": "markdown",
   "id": "e7a69a5f-2714-4da4-b91d-4eaacf4261cb",
   "metadata": {},
   "source": [
    "A 15-year lag for the high school enrollment explains about 72% of the variance but does show evidence of overfitting with an 11-point difference between training and testing of 11 point.\n",
    "\n",
    "Using a 10-year lag results in  better performance with training R2 of 81% and testing R2 of 95%.  This still shows high variance though and is not the ideal model.  "
   ]
  },
  {
   "cell_type": "markdown",
   "id": "c03523e4-f5e2-4fa7-a7fe-4c639f1e9ac5",
   "metadata": {
    "tags": []
   },
   "source": [
    "# Model Evaluation\n",
    "The time-lagged population data improved the linear models from around 69% explained variation to approximately 90% explained variation.  All of the models showed signficant improvement over the null model in terms of RMSE.  \n",
    "\n",
    "The best model we were able to make used the population and 5-year lag of population to predict total enrollment.  This model had an R2 of 0.913 and an RMSE of 846 for unseen data.  This represents a factor of 5 decrease from the RMSE for the null model (average).  The model explains 91% of the variation in the enrollment using just two pieces of population data.  "
   ]
  },
  {
   "cell_type": "markdown",
   "id": "e0932e74-d948-46ba-9e35-a29d2309f77e",
   "metadata": {},
   "source": [
    "# Next steps"
   ]
  },
  {
   "cell_type": "markdown",
   "id": "265bbd63-db99-4d44-809d-f7a4620024c7",
   "metadata": {},
   "source": [
    "Improvements to the model could include:\n",
    "- adding housing data to allow longer term predictions\n",
    "- breaking down to individual school level and how they compare to overall trends\n"
   ]
  },
  {
   "cell_type": "code",
   "execution_count": null,
   "id": "40cb24d2-14f9-441f-ae96-4ece162d4c37",
   "metadata": {},
   "outputs": [],
   "source": []
  }
 ],
 "metadata": {
  "kernelspec": {
   "display_name": "Python 3",
   "language": "python",
   "name": "python3"
  },
  "language_info": {
   "codemirror_mode": {
    "name": "ipython",
    "version": 3
   },
   "file_extension": ".py",
   "mimetype": "text/x-python",
   "name": "python",
   "nbconvert_exporter": "python",
   "pygments_lexer": "ipython3",
   "version": "3.8.8"
  }
 },
 "nbformat": 4,
 "nbformat_minor": 5
}
